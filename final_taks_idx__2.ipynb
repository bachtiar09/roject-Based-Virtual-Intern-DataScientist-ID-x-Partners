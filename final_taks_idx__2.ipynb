{
  "cells": [
    {
      "cell_type": "code",
      "execution_count": null,
      "metadata": {
        "id": "bV67_EIl2wzA"
      },
      "outputs": [],
      "source": [
        "# library\n",
        "import numpy as np\n",
        "import pandas as pd\n",
        "import matplotlib.pyplot as plt\n",
        "import seaborn as sns"
      ]
    },
    {
      "cell_type": "code",
      "execution_count": null,
      "metadata": {
        "id": "2MBgRFkXGvbb"
      },
      "outputs": [],
      "source": [
        "url='/content/drive/MyDrive/datalanjutan.csv'"
      ]
    },
    {
      "cell_type": "code",
      "execution_count": null,
      "metadata": {
        "colab": {
          "base_uri": "https://localhost:8080/",
          "height": 143
        },
        "id": "xDUj1ItKHtr2",
        "outputId": "5e86df25-71fe-4ed4-face-a63809cc200e"
      },
      "outputs": [
        {
          "output_type": "execute_result",
          "data": {
            "text/plain": [
              "   Unnamed: 0  annual_inc    dti  total_acc  delinq_2yrs  acc_now_delinq  \\\n",
              "0           0     24000.0  27.65        9.0          0.0             0.0   \n",
              "1           1     30000.0   1.00        4.0          0.0             0.0   \n",
              "2           2     12252.0   8.72       10.0          0.0             0.0   \n",
              "\n",
              "   purpose  term  target  \n",
              "0        1    36       1  \n",
              "1        0    60       0  \n",
              "2       11    36       1  "
            ],
            "text/html": [
              "\n",
              "  <div id=\"df-ba826ec3-6ce5-4cd2-98b4-7ddfa3b5867a\" class=\"colab-df-container\">\n",
              "    <div>\n",
              "<style scoped>\n",
              "    .dataframe tbody tr th:only-of-type {\n",
              "        vertical-align: middle;\n",
              "    }\n",
              "\n",
              "    .dataframe tbody tr th {\n",
              "        vertical-align: top;\n",
              "    }\n",
              "\n",
              "    .dataframe thead th {\n",
              "        text-align: right;\n",
              "    }\n",
              "</style>\n",
              "<table border=\"1\" class=\"dataframe\">\n",
              "  <thead>\n",
              "    <tr style=\"text-align: right;\">\n",
              "      <th></th>\n",
              "      <th>Unnamed: 0</th>\n",
              "      <th>annual_inc</th>\n",
              "      <th>dti</th>\n",
              "      <th>total_acc</th>\n",
              "      <th>delinq_2yrs</th>\n",
              "      <th>acc_now_delinq</th>\n",
              "      <th>purpose</th>\n",
              "      <th>term</th>\n",
              "      <th>target</th>\n",
              "    </tr>\n",
              "  </thead>\n",
              "  <tbody>\n",
              "    <tr>\n",
              "      <th>0</th>\n",
              "      <td>0</td>\n",
              "      <td>24000.0</td>\n",
              "      <td>27.65</td>\n",
              "      <td>9.0</td>\n",
              "      <td>0.0</td>\n",
              "      <td>0.0</td>\n",
              "      <td>1</td>\n",
              "      <td>36</td>\n",
              "      <td>1</td>\n",
              "    </tr>\n",
              "    <tr>\n",
              "      <th>1</th>\n",
              "      <td>1</td>\n",
              "      <td>30000.0</td>\n",
              "      <td>1.00</td>\n",
              "      <td>4.0</td>\n",
              "      <td>0.0</td>\n",
              "      <td>0.0</td>\n",
              "      <td>0</td>\n",
              "      <td>60</td>\n",
              "      <td>0</td>\n",
              "    </tr>\n",
              "    <tr>\n",
              "      <th>2</th>\n",
              "      <td>2</td>\n",
              "      <td>12252.0</td>\n",
              "      <td>8.72</td>\n",
              "      <td>10.0</td>\n",
              "      <td>0.0</td>\n",
              "      <td>0.0</td>\n",
              "      <td>11</td>\n",
              "      <td>36</td>\n",
              "      <td>1</td>\n",
              "    </tr>\n",
              "  </tbody>\n",
              "</table>\n",
              "</div>\n",
              "    <div class=\"colab-df-buttons\">\n",
              "\n",
              "  <div class=\"colab-df-container\">\n",
              "    <button class=\"colab-df-convert\" onclick=\"convertToInteractive('df-ba826ec3-6ce5-4cd2-98b4-7ddfa3b5867a')\"\n",
              "            title=\"Convert this dataframe to an interactive table.\"\n",
              "            style=\"display:none;\">\n",
              "\n",
              "  <svg xmlns=\"http://www.w3.org/2000/svg\" height=\"24px\" viewBox=\"0 -960 960 960\">\n",
              "    <path d=\"M120-120v-720h720v720H120Zm60-500h600v-160H180v160Zm220 220h160v-160H400v160Zm0 220h160v-160H400v160ZM180-400h160v-160H180v160Zm440 0h160v-160H620v160ZM180-180h160v-160H180v160Zm440 0h160v-160H620v160Z\"/>\n",
              "  </svg>\n",
              "    </button>\n",
              "\n",
              "  <style>\n",
              "    .colab-df-container {\n",
              "      display:flex;\n",
              "      gap: 12px;\n",
              "    }\n",
              "\n",
              "    .colab-df-convert {\n",
              "      background-color: #E8F0FE;\n",
              "      border: none;\n",
              "      border-radius: 50%;\n",
              "      cursor: pointer;\n",
              "      display: none;\n",
              "      fill: #1967D2;\n",
              "      height: 32px;\n",
              "      padding: 0 0 0 0;\n",
              "      width: 32px;\n",
              "    }\n",
              "\n",
              "    .colab-df-convert:hover {\n",
              "      background-color: #E2EBFA;\n",
              "      box-shadow: 0px 1px 2px rgba(60, 64, 67, 0.3), 0px 1px 3px 1px rgba(60, 64, 67, 0.15);\n",
              "      fill: #174EA6;\n",
              "    }\n",
              "\n",
              "    .colab-df-buttons div {\n",
              "      margin-bottom: 4px;\n",
              "    }\n",
              "\n",
              "    [theme=dark] .colab-df-convert {\n",
              "      background-color: #3B4455;\n",
              "      fill: #D2E3FC;\n",
              "    }\n",
              "\n",
              "    [theme=dark] .colab-df-convert:hover {\n",
              "      background-color: #434B5C;\n",
              "      box-shadow: 0px 1px 3px 1px rgba(0, 0, 0, 0.15);\n",
              "      filter: drop-shadow(0px 1px 2px rgba(0, 0, 0, 0.3));\n",
              "      fill: #FFFFFF;\n",
              "    }\n",
              "  </style>\n",
              "\n",
              "    <script>\n",
              "      const buttonEl =\n",
              "        document.querySelector('#df-ba826ec3-6ce5-4cd2-98b4-7ddfa3b5867a button.colab-df-convert');\n",
              "      buttonEl.style.display =\n",
              "        google.colab.kernel.accessAllowed ? 'block' : 'none';\n",
              "\n",
              "      async function convertToInteractive(key) {\n",
              "        const element = document.querySelector('#df-ba826ec3-6ce5-4cd2-98b4-7ddfa3b5867a');\n",
              "        const dataTable =\n",
              "          await google.colab.kernel.invokeFunction('convertToInteractive',\n",
              "                                                    [key], {});\n",
              "        if (!dataTable) return;\n",
              "\n",
              "        const docLinkHtml = 'Like what you see? Visit the ' +\n",
              "          '<a target=\"_blank\" href=https://colab.research.google.com/notebooks/data_table.ipynb>data table notebook</a>'\n",
              "          + ' to learn more about interactive tables.';\n",
              "        element.innerHTML = '';\n",
              "        dataTable['output_type'] = 'display_data';\n",
              "        await google.colab.output.renderOutput(dataTable, element);\n",
              "        const docLink = document.createElement('div');\n",
              "        docLink.innerHTML = docLinkHtml;\n",
              "        element.appendChild(docLink);\n",
              "      }\n",
              "    </script>\n",
              "  </div>\n",
              "\n",
              "\n",
              "<div id=\"df-a892537a-9d3c-4ff7-817e-c0c0b75d2171\">\n",
              "  <button class=\"colab-df-quickchart\" onclick=\"quickchart('df-a892537a-9d3c-4ff7-817e-c0c0b75d2171')\"\n",
              "            title=\"Suggest charts\"\n",
              "            style=\"display:none;\">\n",
              "\n",
              "<svg xmlns=\"http://www.w3.org/2000/svg\" height=\"24px\"viewBox=\"0 0 24 24\"\n",
              "     width=\"24px\">\n",
              "    <g>\n",
              "        <path d=\"M19 3H5c-1.1 0-2 .9-2 2v14c0 1.1.9 2 2 2h14c1.1 0 2-.9 2-2V5c0-1.1-.9-2-2-2zM9 17H7v-7h2v7zm4 0h-2V7h2v10zm4 0h-2v-4h2v4z\"/>\n",
              "    </g>\n",
              "</svg>\n",
              "  </button>\n",
              "\n",
              "<style>\n",
              "  .colab-df-quickchart {\n",
              "      --bg-color: #E8F0FE;\n",
              "      --fill-color: #1967D2;\n",
              "      --hover-bg-color: #E2EBFA;\n",
              "      --hover-fill-color: #174EA6;\n",
              "      --disabled-fill-color: #AAA;\n",
              "      --disabled-bg-color: #DDD;\n",
              "  }\n",
              "\n",
              "  [theme=dark] .colab-df-quickchart {\n",
              "      --bg-color: #3B4455;\n",
              "      --fill-color: #D2E3FC;\n",
              "      --hover-bg-color: #434B5C;\n",
              "      --hover-fill-color: #FFFFFF;\n",
              "      --disabled-bg-color: #3B4455;\n",
              "      --disabled-fill-color: #666;\n",
              "  }\n",
              "\n",
              "  .colab-df-quickchart {\n",
              "    background-color: var(--bg-color);\n",
              "    border: none;\n",
              "    border-radius: 50%;\n",
              "    cursor: pointer;\n",
              "    display: none;\n",
              "    fill: var(--fill-color);\n",
              "    height: 32px;\n",
              "    padding: 0;\n",
              "    width: 32px;\n",
              "  }\n",
              "\n",
              "  .colab-df-quickchart:hover {\n",
              "    background-color: var(--hover-bg-color);\n",
              "    box-shadow: 0 1px 2px rgba(60, 64, 67, 0.3), 0 1px 3px 1px rgba(60, 64, 67, 0.15);\n",
              "    fill: var(--button-hover-fill-color);\n",
              "  }\n",
              "\n",
              "  .colab-df-quickchart-complete:disabled,\n",
              "  .colab-df-quickchart-complete:disabled:hover {\n",
              "    background-color: var(--disabled-bg-color);\n",
              "    fill: var(--disabled-fill-color);\n",
              "    box-shadow: none;\n",
              "  }\n",
              "\n",
              "  .colab-df-spinner {\n",
              "    border: 2px solid var(--fill-color);\n",
              "    border-color: transparent;\n",
              "    border-bottom-color: var(--fill-color);\n",
              "    animation:\n",
              "      spin 1s steps(1) infinite;\n",
              "  }\n",
              "\n",
              "  @keyframes spin {\n",
              "    0% {\n",
              "      border-color: transparent;\n",
              "      border-bottom-color: var(--fill-color);\n",
              "      border-left-color: var(--fill-color);\n",
              "    }\n",
              "    20% {\n",
              "      border-color: transparent;\n",
              "      border-left-color: var(--fill-color);\n",
              "      border-top-color: var(--fill-color);\n",
              "    }\n",
              "    30% {\n",
              "      border-color: transparent;\n",
              "      border-left-color: var(--fill-color);\n",
              "      border-top-color: var(--fill-color);\n",
              "      border-right-color: var(--fill-color);\n",
              "    }\n",
              "    40% {\n",
              "      border-color: transparent;\n",
              "      border-right-color: var(--fill-color);\n",
              "      border-top-color: var(--fill-color);\n",
              "    }\n",
              "    60% {\n",
              "      border-color: transparent;\n",
              "      border-right-color: var(--fill-color);\n",
              "    }\n",
              "    80% {\n",
              "      border-color: transparent;\n",
              "      border-right-color: var(--fill-color);\n",
              "      border-bottom-color: var(--fill-color);\n",
              "    }\n",
              "    90% {\n",
              "      border-color: transparent;\n",
              "      border-bottom-color: var(--fill-color);\n",
              "    }\n",
              "  }\n",
              "</style>\n",
              "\n",
              "  <script>\n",
              "    async function quickchart(key) {\n",
              "      const quickchartButtonEl =\n",
              "        document.querySelector('#' + key + ' button');\n",
              "      quickchartButtonEl.disabled = true;  // To prevent multiple clicks.\n",
              "      quickchartButtonEl.classList.add('colab-df-spinner');\n",
              "      try {\n",
              "        const charts = await google.colab.kernel.invokeFunction(\n",
              "            'suggestCharts', [key], {});\n",
              "      } catch (error) {\n",
              "        console.error('Error during call to suggestCharts:', error);\n",
              "      }\n",
              "      quickchartButtonEl.classList.remove('colab-df-spinner');\n",
              "      quickchartButtonEl.classList.add('colab-df-quickchart-complete');\n",
              "    }\n",
              "    (() => {\n",
              "      let quickchartButtonEl =\n",
              "        document.querySelector('#df-a892537a-9d3c-4ff7-817e-c0c0b75d2171 button');\n",
              "      quickchartButtonEl.style.display =\n",
              "        google.colab.kernel.accessAllowed ? 'block' : 'none';\n",
              "    })();\n",
              "  </script>\n",
              "</div>\n",
              "    </div>\n",
              "  </div>\n"
            ]
          },
          "metadata": {},
          "execution_count": 28
        }
      ],
      "source": [
        "# Set the option to display all columns\n",
        "pd.set_option('display.max_columns', None)\n",
        "df = pd.read_csv(url)\n",
        "df.head(3)"
      ]
    },
    {
      "cell_type": "code",
      "source": [
        "df.columns"
      ],
      "metadata": {
        "colab": {
          "base_uri": "https://localhost:8080/"
        },
        "id": "DeiCQt1_pAqq",
        "outputId": "b0ecc803-5d71-46f6-d8ea-a55611b327cf"
      },
      "execution_count": null,
      "outputs": [
        {
          "output_type": "execute_result",
          "data": {
            "text/plain": [
              "Index(['Unnamed: 0', 'annual_inc', 'dti', 'total_acc', 'delinq_2yrs',\n",
              "       'acc_now_delinq', 'purpose', 'term', 'target'],\n",
              "      dtype='object')"
            ]
          },
          "metadata": {},
          "execution_count": 37
        }
      ]
    },
    {
      "cell_type": "code",
      "execution_count": null,
      "metadata": {
        "id": "wQ3QmJFHH27h"
      },
      "outputs": [],
      "source": [
        "# Split data\n",
        "from sklearn.model_selection import train_test_split\n",
        "X = df.drop(columns=['Unnamed: 0', 'target'], axis=1)\n",
        "y = df['target']\n",
        "X_train, X_test, y_train, y_test = train_test_split(X, y, test_size=0.2, random_state=42)\n",
        "from imblearn.over_sampling import SMOTE\n",
        "sm = SMOTE(random_state=42)\n",
        "X_train_res, y_train_res = sm.fit_resample(X_train, y_train)"
      ]
    },
    {
      "cell_type": "code",
      "execution_count": null,
      "metadata": {
        "id": "idf-c1tTa1to"
      },
      "outputs": [],
      "source": [
        "# Normalisasi\n",
        "from sklearn.preprocessing import StandardScaler\n",
        "scaler = StandardScaler()\n",
        "X_train = scaler.fit_transform(X_train)\n",
        "X_test = scaler.transform(X_test)\n",
        "X_train_res =  scaler.transform(X_train_res)"
      ]
    },
    {
      "cell_type": "code",
      "execution_count": null,
      "metadata": {
        "id": "24dd5074"
      },
      "outputs": [],
      "source": [
        "from sklearn.metrics import accuracy_score, precision_score, recall_score, f1_score, roc_auc_score\n",
        "from sklearn.model_selection import cross_validate\n",
        "\n",
        "def eval_classification(model):\n",
        "    y_pred = model.predict(X_test)\n",
        "    y_pred_train = model.predict(X_train)\n",
        "    y_pred_proba = model.predict_proba(X_test)\n",
        "    y_pred_proba_train = model.predict_proba(X_train)\n",
        "\n",
        "    print(\"Accuracy (Test Set): %.2f\" % accuracy_score(y_test, y_pred))\n",
        "    print(\"Precision (Test Set): %.2f\" % precision_score(y_test, y_pred))\n",
        "    print(\"Recall (Test Set): %.2f\" % recall_score(y_test, y_pred))\n",
        "    print(\"F1-Score (Test Set): %.2f\" % f1_score(y_test, y_pred))\n",
        "\n",
        "    print(\"roc_auc (test-proba): %.2f\" % roc_auc_score(y_test, y_pred_proba[:, 1]))\n",
        "    print(\"roc_auc (train-proba): %.2f\" % roc_auc_score(y_train, y_pred_proba_train[:, 1]))\n",
        "\n",
        "def show_feature_importance(model):\n",
        "    feat_importances = pd.Series(model.feature_importances_, index=X.columns)\n",
        "    ax = feat_importances.nlargest(25).plot(kind='barh', figsize=(10, 8))\n",
        "    ax.invert_yaxis()\n",
        "\n",
        "    plt.xlabel('score')\n",
        "    plt.ylabel('feature')\n",
        "    plt.title('feature importance score')\n",
        "\n",
        "def show_best_hyperparameter(model):\n",
        "    print(model.best_estimator_.get_params())"
      ]
    },
    {
      "cell_type": "code",
      "execution_count": null,
      "metadata": {
        "id": "0f97b35e"
      },
      "outputs": [],
      "source": [
        "import numpy as np\n",
        "from matplotlib import pyplot as plt\n",
        "from sklearn.linear_model import LogisticRegression\n",
        "from sklearn.neighbors import KNeighborsClassifier\n",
        "from sklearn.tree import DecisionTreeClassifier\n",
        "\n",
        "def draw_learning_curve(param_values):\n",
        "    train_scores = []\n",
        "    test_scores = []\n",
        "\n",
        "    for c in param_values:\n",
        "        model = LogisticRegression(penalty='l2', C=c)\n",
        "        model.fit(X_train, y_train)\n",
        "\n",
        "        # eval on train\n",
        "        y_pred_train_proba = model.predict_proba(X_train)\n",
        "        train_auc = roc_auc_score(y_train, y_pred_train_proba[:,1])\n",
        "        train_scores.append(train_auc)\n",
        "\n",
        "        # eval on test\n",
        "        y_pred_proba = model.predict_proba(X_test)\n",
        "        test_auc = roc_auc_score(y_test, y_pred_proba[:,1])\n",
        "        test_scores.append(test_auc)\n",
        "\n",
        "        print('param value: ' + str(c) + '; train: ' + str(train_auc) + '; test: '+ str(test_auc))\n",
        "\n",
        "    plt.plot(param_values, train_scores, label='Train')\n",
        "    plt.plot(param_values, test_scores, label='Test')\n",
        "    plt.xlabel('C')\n",
        "    plt.ylabel('AUC')\n",
        "    plt.title('Learning Curve - Hyperparameter C - Logistic Regression')\n",
        "    plt.legend()\n",
        "    plt.show()"
      ]
    },
    {
      "cell_type": "markdown",
      "metadata": {
        "id": "NE7cYFYGmMED"
      },
      "source": [
        "#Random Forest"
      ]
    },
    {
      "cell_type": "code",
      "execution_count": null,
      "metadata": {
        "colab": {
          "base_uri": "https://localhost:8080/"
        },
        "id": "lV-KHVk39795",
        "outputId": "8913b41b-bd7b-411f-b475-cf2372859602"
      },
      "outputs": [
        {
          "output_type": "stream",
          "name": "stdout",
          "text": [
            "Accuracy (Test Set): 0.86\n",
            "Precision (Test Set): 0.88\n",
            "Recall (Test Set): 0.98\n",
            "F1-Score (Test Set): 0.93\n",
            "roc_auc (test-proba): 0.54\n",
            "roc_auc (train-proba): 1.00\n"
          ]
        }
      ],
      "source": [
        "from sklearn.ensemble import RandomForestClassifier\n",
        "\n",
        "rf = RandomForestClassifier(random_state=42)\n",
        "rf.fit(X_train, y_train)\n",
        "eval_classification(rf)"
      ]
    },
    {
      "cell_type": "markdown",
      "metadata": {
        "id": "ppA9hmLtpfeW"
      },
      "source": [
        "#SMOTE sampling"
      ]
    },
    {
      "cell_type": "code",
      "execution_count": null,
      "metadata": {
        "colab": {
          "base_uri": "https://localhost:8080/"
        },
        "id": "nveGchHcvBce",
        "outputId": "61bb0e35-ecf9-41e2-c5c6-3c8f0a881de6"
      },
      "outputs": [
        {
          "output_type": "stream",
          "name": "stdout",
          "text": [
            "Accuracy (Test Set): 0.77\n",
            "Precision (Test Set): 0.88\n",
            "Recall (Test Set): 0.85\n",
            "F1-Score (Test Set): 0.87\n",
            "roc_auc (test-proba): 0.53\n",
            "roc_auc (train-proba): 1.00\n"
          ]
        }
      ],
      "source": [
        "from sklearn.ensemble import RandomForestClassifier\n",
        "\n",
        "rf = RandomForestClassifier(random_state=42)\n",
        "rf.fit(X_train_res, y_train_res)\n",
        "eval_classification(rf)"
      ]
    },
    {
      "cell_type": "markdown",
      "metadata": {
        "id": "lSz9NARrpWa3"
      },
      "source": [
        "#Hyperparameter Tuning"
      ]
    },
    {
      "cell_type": "code",
      "execution_count": null,
      "metadata": {
        "colab": {
          "base_uri": "https://localhost:8080/"
        },
        "id": "c43REdKsvmKZ",
        "outputId": "9296ed2a-0721-44cb-beb6-a0b6fc2397f6"
      },
      "outputs": [
        {
          "output_type": "stream",
          "name": "stdout",
          "text": [
            "Accuracy (Test Set): 0.88\n",
            "Precision (Test Set): 0.88\n",
            "Recall (Test Set): 1.00\n",
            "F1-Score (Test Set): 0.94\n",
            "roc_auc (test-proba): 0.61\n",
            "roc_auc (train-proba): 0.63\n"
          ]
        }
      ],
      "source": [
        "# tuning hyperparameter RF + oversampling\n",
        "from sklearn.model_selection import RandomizedSearchCV\n",
        "\n",
        "n_estimators = [int(x) for x in np.linspace(1, 200, 50)]\n",
        "criterion = ['gini', 'entropy']\n",
        "max_depth = [int(x) for x in np.linspace(2, 100, 50)]\n",
        "min_samples_split = [int(x) for x in np.linspace(2, 20, 10)]\n",
        "min_samples_leaf = [int(x) for x in np.linspace(2, 20, 10)]\n",
        "hyperparameters = dict(n_estimators=n_estimators, criterion=criterion, max_depth=max_depth,\n",
        "                       min_samples_split=min_samples_split, min_samples_leaf=min_samples_leaf)\n",
        "\n",
        "rf = RandomForestClassifier(random_state=42)\n",
        "rs = RandomizedSearchCV(rf, hyperparameters, scoring='roc_auc', random_state=1, cv=5)\n",
        "rs.fit(X_train, y_train)\n",
        "eval_classification(rs)"
      ]
    },
    {
      "cell_type": "code",
      "execution_count": null,
      "metadata": {
        "colab": {
          "base_uri": "https://localhost:8080/",
          "height": 690
        },
        "id": "nOuTXZTswqdw",
        "outputId": "2719f7e5-5632-4d91-cb9f-8dad930399a3"
      },
      "outputs": [
        {
          "output_type": "stream",
          "name": "stdout",
          "text": [
            "param value: 2; train: 0.9971150967368254; test: 0.5536288262849065\n",
            "param value: 3; train: 0.9882673553875576; test: 0.5623871150956699\n",
            "param value: 4; train: 0.97605049374131; test: 0.5657259058867772\n",
            "param value: 5; train: 0.9617038014777124; test: 0.5708583219507359\n",
            "param value: 7; train: 0.9308838379559876; test: 0.5758276493482093\n",
            "param value: 8; train: 0.9182274720489658; test: 0.5780908261717339\n",
            "param value: 9; train: 0.9056843706699669; test: 0.5800671553306758\n",
            "param value: 11; train: 0.8812095558039339; test: 0.583441862490212\n",
            "param value: 12; train: 0.8698701570104375; test: 0.5844544696050316\n",
            "param value: 13; train: 0.8604218853062366; test: 0.5840024310854555\n",
            "param value: 14; train: 0.8506305774301317; test: 0.5863870919862968\n",
            "param value: 16; train: 0.8335514061762487; test: 0.5883050440686518\n",
            "param value: 17; train: 0.8261236373563579; test: 0.5890947484548978\n",
            "param value: 18; train: 0.8180414331108743; test: 0.5910611537772688\n",
            "param value: 20; train: 0.8057536829077319; test: 0.5918165138425235\n"
          ]
        },
        {
          "output_type": "display_data",
          "data": {
            "text/plain": [
              "<Figure size 640x480 with 1 Axes>"
            ],
            "image/png": "[encoded data removed]"
          },
          "metadata": {}
        }
      ],
      "source": [
        "#learning curve\n",
        "# param_values = [int(x) for x in np.linspace(1, 200, 50)] # n_estimators\n",
        "# param_values = [int(x) for x in np.linspace(2, 100, 50)] # max_depth\n",
        "# param_values = [int(x) for x in np.linspace(2, 20, 15)] # min_samples_split\n",
        "param_values = [int(x) for x in np.linspace(2, 20, 15)] # min_samples_leaf\n",
        "\n",
        "train_scores = []\n",
        "test_scores = []\n",
        "\n",
        "for c in param_values:\n",
        "    model = RandomForestClassifier(n_estimators=75, min_samples_leaf=c)\n",
        "    model.fit(X_train, y_train)\n",
        "\n",
        "    # eval on train\n",
        "    y_pred_train_proba = model.predict_proba(X_train)\n",
        "    train_auc = roc_auc_score(y_train, y_pred_train_proba[:,1])\n",
        "    train_scores.append(train_auc)\n",
        "\n",
        "    # eval on test\n",
        "    y_pred_proba = model.predict_proba(X_test)\n",
        "    test_auc = roc_auc_score(y_test, y_pred_proba[:,1])\n",
        "    test_scores.append(test_auc)\n",
        "\n",
        "    print('param value: ' + str(c) + '; train: ' + str(train_auc) + '; test: '+ str(test_auc))\n",
        "\n",
        "plt.plot(param_values, train_scores, label='Train')\n",
        "plt.plot(param_values, test_scores, label='Test')\n",
        "plt.legend()\n",
        "plt.show()"
      ]
    },
    {
      "cell_type": "code",
      "execution_count": null,
      "metadata": {
        "colab": {
          "base_uri": "https://localhost:8080/",
          "height": 718
        },
        "id": "uTAO8b1bzfKY",
        "outputId": "17caa0b7-234f-4035-86a2-29cfdddc9c32"
      },
      "outputs": [
        {
          "output_type": "display_data",
          "data": {
            "text/plain": [
              "<Figure size 1000x800 with 1 Axes>"
            ],
            "image/png": "[encoded data removed]"
          },
          "metadata": {}
        }
      ],
      "source": [
        "show_feature_importance(rs.best_estimator_)"
      ]
    }
  ],
  "metadata": {
    "colab": {
      "toc_visible": true,
      "provenance": []
    },
    "kernelspec": {
      "display_name": "Python 3",
      "name": "python3"
    },
    "language_info": {
      "name": "python"
    }
  },
  "nbformat": 4,
  "nbformat_minor": 0
}